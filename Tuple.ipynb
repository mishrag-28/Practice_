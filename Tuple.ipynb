{
 "cells": [
  {
   "cell_type": "markdown",
   "id": "bd924ce4",
   "metadata": {},
   "source": [
    "# Tuple"
   ]
  },
  {
   "cell_type": "code",
   "execution_count": 1,
   "id": "6636de85",
   "metadata": {},
   "outputs": [
    {
     "data": {
      "text/plain": [
       "(1, True, 'Gagan', 5.0)"
      ]
     },
     "execution_count": 1,
     "metadata": {},
     "output_type": "execute_result"
    }
   ],
   "source": [
    "tup1=(1,True,'Gagan',5.0)\n",
    "tup1"
   ]
  },
  {
   "cell_type": "code",
   "execution_count": 2,
   "id": "d1e81065",
   "metadata": {},
   "outputs": [
    {
     "data": {
      "text/plain": [
       "str"
      ]
     },
     "execution_count": 2,
     "metadata": {},
     "output_type": "execute_result"
    }
   ],
   "source": [
    "t2=('gagan')  # just a string\n",
    "type(t2)"
   ]
  },
  {
   "cell_type": "code",
   "execution_count": 3,
   "id": "99b60108",
   "metadata": {},
   "outputs": [
    {
     "data": {
      "text/plain": [
       "tuple"
      ]
     },
     "execution_count": 3,
     "metadata": {},
     "output_type": "execute_result"
    }
   ],
   "source": [
    "t2=('gagan',)  #make sure you put comma while making tuple with single element\n",
    "type(t2)"
   ]
  },
  {
   "cell_type": "code",
   "execution_count": 10,
   "id": "48bb9b65",
   "metadata": {},
   "outputs": [
    {
     "name": "stdout",
     "output_type": "stream",
     "text": [
      "('g', 'a', 'g', 'a', 'n')\n",
      "('gagan',)\n",
      "('gagan',)\n",
      "(2,)\n",
      "(8, 'gagan')\n"
     ]
    }
   ],
   "source": [
    "#tuple constructor k andar koi bhi SEQUENCE(string,number) \n",
    "# Tuples take a single parameter which may be a list, string, set\n",
    "# or even a dictionary(only KEYS are taken as elements),\n",
    "\n",
    "tup1=tuple(('gagan'))  # string passed\n",
    "print(tup1)\n",
    "\n",
    "tup1=tuple(('gagan',))\n",
    "print(tup1)\n",
    "\n",
    "tup1=tuple(['gagan'])\n",
    "print(tup1)\n",
    "\n",
    "tup3=tuple({2:'gagan'})   # Dictionary k case me bas KEYS ka tuple bna deta h\n",
    "print(tup3)\n",
    "\n",
    "tup1=tuple({'gagan',8})  # set se tuple\n",
    "print(tup1)\n"
   ]
  },
  {
   "cell_type": "raw",
   "id": "3a2da7b6",
   "metadata": {},
   "source": [
    "# Tuples are immutable and ordered and allow duplicate values.\n",
    "# One cannot add items to a tuple once it is created. \n",
    "# Tuples cannot be appended or extended.\n",
    "# We cannot remove items from a tuple once it is created.\n",
    "\n",
    "once created then it doesn't allows any change to it."
   ]
  },
  {
   "cell_type": "markdown",
   "id": "5797b9a8",
   "metadata": {},
   "source": [
    "# Accessing elements in tuple "
   ]
  },
  {
   "cell_type": "code",
   "execution_count": 11,
   "id": "3ee4ca8a",
   "metadata": {},
   "outputs": [
    {
     "data": {
      "text/plain": [
       "'Gagan'"
      ]
     },
     "execution_count": 11,
     "metadata": {},
     "output_type": "execute_result"
    }
   ],
   "source": [
    "# indexing\n",
    "# forward  0,1,2,3,..., len(tuple)-1\n",
    "# backward -len(tuple),...,-3,-2,-1\n",
    "\n",
    "tup1=(1,True,'Gagan',5.0)\n",
    "tup1[2]"
   ]
  },
  {
   "cell_type": "code",
   "execution_count": 17,
   "id": "b8667b4c",
   "metadata": {},
   "outputs": [
    {
     "name": "stdout",
     "output_type": "stream",
     "text": [
      "1st (1, True)\n",
      "2nd (True, 'Gagan')\n"
     ]
    }
   ],
   "source": [
    "print('1st',tup1[0:2])  # 2 not included\n",
    "\n",
    "#In Python slicing, the end index provided is not included.\n",
    "\n",
    "print('2nd',tup1[-3:-1])  # positive ka equivalent likhna hota h"
   ]
  },
  {
   "cell_type": "code",
   "execution_count": 15,
   "id": "41fb6393",
   "metadata": {},
   "outputs": [
    {
     "data": {
      "text/plain": [
       "(5.0, 'Gagan', True, 1)"
      ]
     },
     "execution_count": 15,
     "metadata": {},
     "output_type": "execute_result"
    }
   ],
   "source": [
    "tup1[::-1]  # prints tuple in reverse order"
   ]
  },
  {
   "cell_type": "markdown",
   "id": "f1241f87",
   "metadata": {},
   "source": [
    "# Concatenation and Replication of tuple"
   ]
  },
  {
   "cell_type": "code",
   "execution_count": 22,
   "id": "4d8f7327",
   "metadata": {},
   "outputs": [
    {
     "name": "stdout",
     "output_type": "stream",
     "text": [
      "concatenation : (1, True, 'Gagan', 5.0, 'gagan', 'mishra')\n",
      "Replication : ('gagan', 'mishra', 'gagan', 'mishra', 'gagan', 'mishra')\n"
     ]
    }
   ],
   "source": [
    "tup1=(1,True,'Gagan',5.0)\n",
    "tup2=('gagan','mishra')\n",
    "print(\"concatenation :\",tup1+tup2)\n",
    "\n",
    "print(\"Replication :\",tup2*3)  # repeats thrice"
   ]
  },
  {
   "cell_type": "markdown",
   "id": "0af0c3c6",
   "metadata": {},
   "source": [
    "# Deleting Using \"del\""
   ]
  },
  {
   "cell_type": "code",
   "execution_count": 23,
   "id": "535239e1",
   "metadata": {},
   "outputs": [],
   "source": [
    "tuple3 = ( 0, 1)\n",
    "del tuple3"
   ]
  },
  {
   "cell_type": "code",
   "execution_count": 25,
   "id": "72154d7d",
   "metadata": {},
   "outputs": [
    {
     "data": {
      "text/plain": [
       "4"
      ]
     },
     "execution_count": 25,
     "metadata": {},
     "output_type": "execute_result"
    }
   ],
   "source": [
    "# Length\n",
    "tup1=(1,True,'Gagan',5.0)\n",
    "len(tup1)"
   ]
  },
  {
   "cell_type": "code",
   "execution_count": 26,
   "id": "07eec4ce",
   "metadata": {},
   "outputs": [
    {
     "name": "stdout",
     "output_type": "stream",
     "text": [
      "1\n",
      "True\n",
      "Gagan\n",
      "5.0\n"
     ]
    }
   ],
   "source": [
    "# Loops\n",
    "\n",
    "tup1=(1,True,'Gagan',5.0)\n",
    "for i in tup1:\n",
    "    print(i)"
   ]
  },
  {
   "cell_type": "code",
   "execution_count": 27,
   "id": "6b0b1c4a",
   "metadata": {},
   "outputs": [
    {
     "name": "stdout",
     "output_type": "stream",
     "text": [
      "1\n",
      "True\n",
      "Gagan\n",
      "5.0\n"
     ]
    }
   ],
   "source": [
    "tup1=(1,True,'Gagan',5.0)\n",
    "i=0\n",
    "while i<4:\n",
    "    print(tup1[i])\n",
    "    i+=1"
   ]
  },
  {
   "cell_type": "code",
   "execution_count": 28,
   "id": "50fadfcc",
   "metadata": {},
   "outputs": [
    {
     "data": {
      "text/plain": [
       "((1, True, 'Gagan', 5.0), ('gagan', 'mishra'))"
      ]
     },
     "execution_count": 28,
     "metadata": {},
     "output_type": "execute_result"
    }
   ],
   "source": [
    "# NEsted tuple\n",
    "tup1=(1,True,'Gagan',5.0)\n",
    "tup2=('gagan','mishra')\n",
    "tup=(tup1,tup2)\n",
    "tup"
   ]
  },
  {
   "cell_type": "code",
   "execution_count": 30,
   "id": "157bdc84",
   "metadata": {},
   "outputs": [
    {
     "name": "stdout",
     "output_type": "stream",
     "text": [
      "Geeks For Geeks\n"
     ]
    }
   ],
   "source": [
    "# Tuple Unpacking (lHS me no. of variable and tuple me no. of elements barabar hone chahiye)\n",
    "Tuple1 = (\"Geeks\", \"For\", \"Geeks\")\n",
    "a,b,c=Tuple1\n",
    "print(a,b,c)"
   ]
  },
  {
   "cell_type": "markdown",
   "id": "f16a4c8f",
   "metadata": {},
   "source": [
    "# index method"
   ]
  },
  {
   "cell_type": "raw",
   "id": "a461cc29",
   "metadata": {},
   "source": [
    "A.index(element, start, end)\n",
    "element – The element whose lowest index will be returned.\n",
    "start (Optional) – The position from where the search begins.\n",
    "end (Optional) – The position from where the search ends.\n",
    "\n",
    "Return: Returns the lowest index where the element appears.\n",
    "\n",
    "Error: If any element which is not present is searched, it raises a ValueError."
   ]
  },
  {
   "cell_type": "code",
   "execution_count": 35,
   "id": "109db426",
   "metadata": {},
   "outputs": [
    {
     "name": "stdout",
     "output_type": "stream",
     "text": [
      "bina other attribute 0\n",
      "with other attribute 2\n"
     ]
    }
   ],
   "source": [
    "Tuple1 = (\"Geeks\", \"For\", \"Geeks\")\n",
    "print(\"bina other attribute\",Tuple1.index(\"Geeks\"))\n",
    "\n",
    "print(\"with other attribute\",Tuple1.index(\"Geeks\",1,3))"
   ]
  },
  {
   "cell_type": "code",
   "execution_count": 36,
   "id": "0987bae8",
   "metadata": {},
   "outputs": [
    {
     "name": "stdout",
     "output_type": "stream",
     "text": [
      "7\n"
     ]
    }
   ],
   "source": [
    "# list of items \n",
    "list1 = (1, 2, 3, 4, 1, 1, 1, 4, 5)\n",
    "  \n",
    "# Will print index of '4' in sublist \n",
    "# having index from 4 to 8. \n",
    "print(list1.index(4, 4, 8))"
   ]
  },
  {
   "cell_type": "markdown",
   "id": "b2f4c23a",
   "metadata": {},
   "source": [
    "# Count  Methods"
   ]
  },
  {
   "cell_type": "code",
   "execution_count": 37,
   "id": "5f8d65f3",
   "metadata": {},
   "outputs": [
    {
     "data": {
      "text/plain": [
       "4"
      ]
     },
     "execution_count": 37,
     "metadata": {},
     "output_type": "execute_result"
    }
   ],
   "source": [
    "# list_name.count(object) \n",
    "# object: is the item whose count is to be returned.\n",
    "\n",
    "list1 = (1, 2, 3, 4, 1, 1, 1, 4, 5)\n",
    "\n",
    "list1.count(1)"
   ]
  },
  {
   "cell_type": "code",
   "execution_count": 39,
   "id": "5cf3ed20",
   "metadata": {},
   "outputs": [
    {
     "name": "stdout",
     "output_type": "stream",
     "text": [
      "[['Sat', 2], ['Bat', 1], ['Cat', 3], ['Mat', 1]]\n",
      "{'Sat': 2, 'Bat': 1, 'Cat': 3, 'Mat': 1}\n"
     ]
    }
   ],
   "source": [
    "lst = ('Cat', 'Bat', 'Sat', 'Cat', 'Mat', 'Cat', 'Sat')\n",
    " \n",
    "# To get the number of occurrences \n",
    "# of each item in a list\n",
    "print ([ [l, lst.count(l)] for l in set(lst)])\n",
    " \n",
    "# To get the number of occurrences \n",
    "# of each item in a dictionary\n",
    "print (dict( (l, lst.count(l) ) for l in set(lst)))"
   ]
  },
  {
   "cell_type": "markdown",
   "id": "13f13ad5",
   "metadata": {},
   "source": [
    "# neeche ham FUNCTIONS ki baat karenge"
   ]
  },
  {
   "cell_type": "code",
   "execution_count": 42,
   "id": "44a28cad",
   "metadata": {},
   "outputs": [
    {
     "data": {
      "text/plain": [
       "True"
      ]
     },
     "execution_count": 42,
     "metadata": {},
     "output_type": "execute_result"
    }
   ],
   "source": [
    "# all()  :- Returns true if all element are true or if tuple is empty\n",
    "#Syntax: all( iterable )\n",
    "# Iterable: It is an iterable object such as a dictionary,tuple,list,set,etc.\n",
    "\n",
    "tu3=()\n",
    "all(tu3)"
   ]
  },
  {
   "cell_type": "code",
   "execution_count": 45,
   "id": "2e914cb5",
   "metadata": {},
   "outputs": [
    {
     "name": "stdout",
     "output_type": "stream",
     "text": [
      "False\n"
     ]
    },
    {
     "data": {
      "text/plain": [
       "False"
      ]
     },
     "execution_count": 45,
     "metadata": {},
     "output_type": "execute_result"
    }
   ],
   "source": [
    "# any(iterable)  :- return true if any element of the tuple is true. if tuple is empty, return false\n",
    "tup=()\n",
    "print(any(tup))\n",
    "\n",
    "tup=(False,)\n",
    "any(tup)"
   ]
  },
  {
   "cell_type": "code",
   "execution_count": 46,
   "id": "d046b15b",
   "metadata": {},
   "outputs": [],
   "source": [
    "# Enumerate()\n",
    "\n",
    "\n",
    "#Syntax: enumerate(iterable, start=0)\n",
    "\n",
    "#Parameters:\n",
    "\n",
    "#Iterable: any object that supports iteration\n",
    "#Start: the index value from which the counter is to be started, by default it is 0\n",
    "#Return: Returns an iterator with index and element pairs from the original iterable"
   ]
  },
  {
   "cell_type": "code",
   "execution_count": 47,
   "id": "a39c1d10",
   "metadata": {},
   "outputs": [
    {
     "name": "stdout",
     "output_type": "stream",
     "text": [
      "[(2, 'g'), (3, 'e'), (4, 'e'), (5, 'k')]\n"
     ]
    }
   ],
   "source": [
    "s1 = \"geek\"\n",
    "print (list(enumerate(s1, 2)))"
   ]
  },
  {
   "cell_type": "code",
   "execution_count": 48,
   "id": "08cfb51e",
   "metadata": {},
   "outputs": [],
   "source": [
    "# max(tup1)\n",
    "# min(tup1)\n",
    "# sum(tup1)"
   ]
  },
  {
   "cell_type": "markdown",
   "id": "ab5fe7b5",
   "metadata": {},
   "source": [
    "# Sorted"
   ]
  },
  {
   "cell_type": "code",
   "execution_count": 49,
   "id": "ecfa6af5",
   "metadata": {},
   "outputs": [],
   "source": [
    "# sorted(iterable, key, reverse)\n",
    "\n",
    "# Parameters:\n",
    "# Iterable: sequence (list, tuple, string) or collection (dictionary, set, frozenset) or any other iterator that needs to be sorted.\n",
    "# Key(optional): A function that would serve as a key or a basis of sort comparison.\n",
    "# Reverse(optional): If True, then the iterable would be sorted in reverse (descending) order, by default it is set as False.\n",
    "# Return: Returns a list with elements in sorted order."
   ]
  },
  {
   "cell_type": "code",
   "execution_count": 50,
   "id": "8481c0eb",
   "metadata": {},
   "outputs": [
    {
     "data": {
      "text/plain": [
       "[8, 7, 6, 4, 3, 2, 1]"
      ]
     },
     "execution_count": 50,
     "metadata": {},
     "output_type": "execute_result"
    }
   ],
   "source": [
    "x = (2, 8, 1, 4, 6, 3, 7) \n",
    "# Since this is a function so it will return something and needs to be stored\n",
    "a=sorted(x,reverse=True)\n",
    "a"
   ]
  },
  {
   "cell_type": "code",
   "execution_count": 52,
   "id": "1dbe0209",
   "metadata": {},
   "outputs": [
    {
     "name": "stdout",
     "output_type": "stream",
     "text": [
      "['e', 'q', 'r', 't', 'w', 'y']\n"
     ]
    }
   ],
   "source": [
    "# sorted k andar list, string, set, frozen set\n",
    "# dictionary bhi but isme keys ko sort karke list me return kar dega\n",
    "x = {'q': 1, 'w': 2, 'e': 3, 'r': 4, 't': 5, 'y': 6} \n",
    "print(sorted(x))"
   ]
  },
  {
   "cell_type": "code",
   "execution_count": 54,
   "id": "cd5fb620",
   "metadata": {},
   "outputs": [
    {
     "name": "stdout",
     "output_type": "stream",
     "text": [
      "Normal sort : [3, 7, 11, 15]\n",
      "Sorted with key: [7, 15, 3, 11]\n"
     ]
    }
   ],
   "source": [
    "# using key\n",
    "def func(x): \n",
    "    return x % 7\n",
    "  \n",
    "L = [15, 3, 11, 7]  \n",
    "print(\"Normal sort :\", sorted(L)) \n",
    "\n",
    "# key lagne k baad pehle har element me func lagega then ascending me sort karge\n",
    "# jiska remainder sabse chota vo sabse pehle and so on\n",
    "print(\"Sorted with key:\", sorted(L, key=func)) "
   ]
  },
  {
   "cell_type": "code",
   "execution_count": 55,
   "id": "43649505",
   "metadata": {},
   "outputs": [
    {
     "name": "stdout",
     "output_type": "stream",
     "text": [
      "[(4, 'four'), (1, 'one'), (3, 'three'), (2, 'two')]\n"
     ]
    }
   ],
   "source": [
    "my_tuples = [(1, \"one\"), (3, \"three\"), (2, \"two\"), (4, \"four\")] \n",
    "sorted_tuples = sorted(my_tuples, key=lambda x: x[1]) \n",
    "\n",
    "#yaha pe x iterator h, har elemnt pe jaega then uska 1th index vale ko dekhega\n",
    "# then arrange kar dega\n",
    "\n",
    "print(sorted_tuples)"
   ]
  },
  {
   "cell_type": "code",
   "execution_count": 58,
   "id": "4ae5279c",
   "metadata": {},
   "outputs": [
    {
     "data": {
      "text/plain": [
       "['B', 'A', 'c']"
      ]
     },
     "execution_count": 58,
     "metadata": {},
     "output_type": "execute_result"
    }
   ],
   "source": [
    "dct={\"A\":30,\"B\":10,\"c\":200}\n",
    "sorted(dct,key=lambda x: dct[x])"
   ]
  },
  {
   "cell_type": "raw",
   "id": "91816616",
   "metadata": {},
   "source": [
    "Methods that cannot be used for tuples:\n",
    "\n",
    "append(), insert(), remove(), pop(), clear(), sort(), reverse()"
   ]
  },
  {
   "cell_type": "code",
   "execution_count": null,
   "id": "f1f7337e",
   "metadata": {},
   "outputs": [],
   "source": []
  }
 ],
 "metadata": {
  "kernelspec": {
   "display_name": "Python 3 (ipykernel)",
   "language": "python",
   "name": "python3"
  },
  "language_info": {
   "codemirror_mode": {
    "name": "ipython",
    "version": 3
   },
   "file_extension": ".py",
   "mimetype": "text/x-python",
   "name": "python",
   "nbconvert_exporter": "python",
   "pygments_lexer": "ipython3",
   "version": "3.11.4"
  }
 },
 "nbformat": 4,
 "nbformat_minor": 5
}
